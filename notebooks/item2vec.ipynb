{
 "cells": [
  {
   "cell_type": "code",
   "execution_count": 10,
   "metadata": {},
   "outputs": [],
   "source": [
    "import numpy as np\n",
    "import random\n",
    "from gensim.models import Word2Vec\n",
    "model = Word2Vec.load(\"../w2v.pickle\")"
   ]
  },
  {
   "cell_type": "markdown",
   "metadata": {},
   "source": [
    "# Tokens\n",
    "Tokens are stored in `model.wv`, use `index_to_key` and `key_to_index` to access them"
   ]
  },
  {
   "cell_type": "code",
   "execution_count": 7,
   "metadata": {},
   "outputs": [
    {
     "data": {
      "text/plain": [
       "['1383775',\n",
       " '1422570',\n",
       " '1444040',\n",
       " '1214608',\n",
       " '1474373',\n",
       " '315826\"',\n",
       " '\"42838',\n",
       " '1392332',\n",
       " '1124427',\n",
       " '\"771308']"
      ]
     },
     "execution_count": 7,
     "metadata": {},
     "output_type": "execute_result"
    }
   ],
   "source": [
    "random.sample(model.wv.index_to_key, 10)"
   ]
  },
  {
   "cell_type": "markdown",
   "metadata": {},
   "source": [
    "# Checking similarity"
   ]
  },
  {
   "cell_type": "code",
   "execution_count": 8,
   "metadata": {},
   "outputs": [
    {
     "data": {
      "text/plain": [
       "[('973233', 0.9959642291069031),\n",
       " ('1114649', 0.9958792328834534),\n",
       " ('1332144', 0.9958786964416504),\n",
       " ('1193250', 0.9956827759742737),\n",
       " ('1320255', 0.9954621195793152),\n",
       " ('1231404', 0.9953991770744324),\n",
       " ('1203105', 0.9950556755065918),\n",
       " ('1184059', 0.9948422312736511),\n",
       " ('1296306', 0.9948216080665588),\n",
       " ('1362554', 0.9947286248207092)]"
      ]
     },
     "execution_count": 8,
     "metadata": {},
     "output_type": "execute_result"
    }
   ],
   "source": [
    "model.wv.most_similar(\"1444040\")"
   ]
  },
  {
   "cell_type": "markdown",
   "metadata": {},
   "source": [
    "# Word vectors"
   ]
  },
  {
   "cell_type": "code",
   "execution_count": 9,
   "metadata": {},
   "outputs": [
    {
     "data": {
      "text/plain": [
       "array([ 0.01470039,  0.06645576, -0.00343825,  0.00203525, -0.02812364,\n",
       "       -0.13913009,  0.20983556,  0.33498684, -0.23384216, -0.06387298,\n",
       "       -0.1660671 , -0.28599966, -0.00850435,  0.17813118, -0.184339  ,\n",
       "        0.06290957,  0.02999604,  0.02564979, -0.23960304, -0.111269  ,\n",
       "       -0.00858708,  0.15497091,  0.26691487, -0.09828345,  0.18671733,\n",
       "        0.05057498, -0.16117276, -0.12025118, -0.22610158,  0.07489597,\n",
       "        0.06126862,  0.00229811, -0.01091514,  0.12914716, -0.08581036,\n",
       "        0.2438694 ,  0.0641233 ,  0.11861278,  0.02888688, -0.21783838,\n",
       "        0.20432875, -0.07253203, -0.08193054, -0.00334641,  0.28958383,\n",
       "       -0.01871869,  0.00937989, -0.1483939 ,  0.13095938,  0.13017265],\n",
       "      dtype=float32)"
      ]
     },
     "execution_count": 9,
     "metadata": {},
     "output_type": "execute_result"
    }
   ],
   "source": [
    "model.wv[\"1444040\"]"
   ]
  },
  {
   "cell_type": "markdown",
   "metadata": {},
   "source": [
    "# Save as numpy"
   ]
  },
  {
   "cell_type": "code",
   "execution_count": 16,
   "metadata": {},
   "outputs": [],
   "source": [
    "arr = np.zeros((len(model.wv.index_to_key),model.vector_size))\n",
    "for i,k in enumerate(model.wv.index_to_key):\n",
    "    arr[i,:] = model.wv[k]"
   ]
  },
  {
   "cell_type": "code",
   "execution_count": null,
   "metadata": {},
   "outputs": [],
   "source": [
    "np.save(\"../tokens.npy\", arr)\n",
    "with open(\"../tokens.json\", 'w') as f:\n",
    "    json.dump(model.wv.index_to_key, f)"
   ]
  }
 ],
 "metadata": {
  "kernelspec": {
   "display_name": "Python 3",
   "language": "python",
   "name": "python3"
  },
  "language_info": {
   "codemirror_mode": {
    "name": "ipython",
    "version": 3
   },
   "file_extension": ".py",
   "mimetype": "text/x-python",
   "name": "python",
   "nbconvert_exporter": "python",
   "pygments_lexer": "ipython3",
   "version": "3.8.10"
  }
 },
 "nbformat": 4,
 "nbformat_minor": 4
}
